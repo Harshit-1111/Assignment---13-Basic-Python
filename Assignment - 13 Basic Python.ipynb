{
 "cells": [
  {
   "cell_type": "code",
   "execution_count": null,
   "id": "a4f702d9",
   "metadata": {},
   "outputs": [],
   "source": [
    "#Q1 What advantages do Excel spreadsheets have over CSV spreadsheets?\n",
    "Ans Excel is more superior when compared with the CSV file format; thus, \n",
    "    CSV consumes less amount of file size when the user is importing data; it is a much faster format compared to excel.\n",
    "    CSV does not manipulate data and stores it as-is. "
   ]
  },
  {
   "cell_type": "code",
   "execution_count": null,
   "id": "b87b32d6",
   "metadata": {},
   "outputs": [],
   "source": [
    "#Q2 2.What do you pass to csv.reader() and csv.writer() to create reader and writer objects?\n",
    "Ans You pass a File object, obtained from a call to open()."
   ]
  },
  {
   "cell_type": "markdown",
   "id": "bd231b1f",
   "metadata": {},
   "source": []
  },
  {
   "cell_type": "code",
   "execution_count": null,
   "id": "a2a096eb",
   "metadata": {},
   "outputs": [],
   "source": [
    "#Q3 What modes do File objects for reader and writer objects need to be opened in?\n",
    "Ans File objects need to be opened in read-binary ('rb') for Reader objects and write-binary ('wb') for Writer objects."
   ]
  },
  {
   "cell_type": "code",
   "execution_count": null,
   "id": "eca75cc8",
   "metadata": {},
   "outputs": [],
   "source": [
    "#Q4 What method takes a list argument and writes it to a CSV file?\n",
    "Ans The writerow() method takes a list argument and writes it to a CSV file"
   ]
  },
  {
   "cell_type": "code",
   "execution_count": null,
   "id": "f4b30ee8",
   "metadata": {},
   "outputs": [],
   "source": [
    "#Q5 What do the keyword arguments delimiter and line terminator do?\n",
    "Ans The delimiter argument changes the string used to separate cells in a row.\n",
    "    The lineterminator argument changes the string used to separate rows."
   ]
  },
  {
   "cell_type": "code",
   "execution_count": null,
   "id": "139e2211",
   "metadata": {},
   "outputs": [],
   "source": [
    "#Q6 What function takes a string of JSON data and returns a Python data structure?\n",
    "Ans json.loads() function takes a string of JSON data and returns a Python data structure"
   ]
  },
  {
   "cell_type": "code",
   "execution_count": null,
   "id": "c96ab1e7",
   "metadata": {},
   "outputs": [],
   "source": [
    "#Q7 What function takes a Python data structure and returns a string of JSON data?\n",
    "Ans json.dumps() takes a Python data structure and returns a string of JSON data"
   ]
  }
 ],
 "metadata": {
  "kernelspec": {
   "display_name": "Python 3 (ipykernel)",
   "language": "python",
   "name": "python3"
  },
  "language_info": {
   "codemirror_mode": {
    "name": "ipython",
    "version": 3
   },
   "file_extension": ".py",
   "mimetype": "text/x-python",
   "name": "python",
   "nbconvert_exporter": "python",
   "pygments_lexer": "ipython3",
   "version": "3.9.7"
  }
 },
 "nbformat": 4,
 "nbformat_minor": 5
}
